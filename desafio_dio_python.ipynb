{
 "cells": [
  {
   "cell_type": "markdown",
   "metadata": {},
   "source": [
    "# Sistema bancário com Python"
   ]
  },
  {
   "cell_type": "code",
   "execution_count": null,
   "metadata": {},
   "outputs": [
    {
     "name": "stdout",
     "output_type": "stream",
     "text": [
      "\n",
      "================ EXTRATO ================\n",
      "Depósito: R$ 50.00\n",
      "\n",
      "\n",
      "Saldo: R$ 50.00\n",
      "==========================================\n"
     ]
    }
   ],
   "source": [
    "menu = \"\"\" # Menu do caixa eletrônico\n",
    "\n",
    "[d] Depositar\n",
    "[s] Sacar\n",
    "[e] Extrato\n",
    "[q] Sair\n",
    "\n",
    "=> \"\"\"\n",
    "\n",
    "saldo = 0 # Saldo inicial\n",
    "limite = 500 # Limite de saque\n",
    "extrato = \"\" # Extrato inicial\n",
    "numero_saques = 0 # Número de saques realizados\n",
    "LIMITE_SAQUES = 3 # Limite de saques\n",
    "\n",
    "while True: \n",
    "\n",
    "    opcao = input(menu) # Exibe o menu e aguarda a opção do usuário\n",
    "\n",
    "    if opcao == \"d\":\n",
    "        valor = float(input(\"Informe o valor do depósito: \")) # Solicita o valor do depósito\n",
    "\n",
    "        if valor > 0: # Verifica se o valor é maior que zero\n",
    "            saldo += valor # Adiciona o valor ao saldo\n",
    "            extrato += f\"Depósito: R$ {valor:.2f}\\n\" # Adiciona o depósito ao extrato\n",
    "\n",
    "        else:\n",
    "            print(\"Operação falhou! O valor informado é inválido.\") # Exibe mensagem de erro\n",
    "\n",
    "    elif opcao == \"s\": # Opção de saque \n",
    "        valor = float(input(\"Informe o valor do saque: \")) # Solicita o valor do saque\n",
    "\n",
    "        excedeu_saldo = valor > saldo # Verifica se o valor do saque é maior que o saldo\n",
    "\n",
    "        excedeu_limite = valor > limite # Verifica se o valor do saque é maior que o limite\n",
    "\n",
    "        excedeu_saques = numero_saques >= LIMITE_SAQUES # Verifica se o número de saques é maior ou igual ao limite de saques\n",
    "\n",
    "        if excedeu_saldo: # Se o valor do saque for maior que o saldo\n",
    "            print(\"Operação falhou! Você não tem saldo suficiente.\") # Exibe mensagem de erro\n",
    "\n",
    "        elif excedeu_limite: # Se o valor do saque for maior que o limite\n",
    "            print(\"Operação falhou! O valor do saque excede o limite.\") # Exibe mensagem de erro\n",
    "\n",
    "        elif excedeu_saques: # Se o número de saques for maior ou igual ao limite de saques\n",
    "            print(\"Operação falhou! Número máximo de saques excedido.\") # Exibe mensagem de erro\n",
    "\n",
    "        elif valor > 0: # Se o valor do saque for maior que zero\n",
    "            saldo -= valor # Subtrai o valor do saldo\n",
    "            extrato += f\"Saque: R$ {valor:.2f}\\n\" # Adiciona o saque ao extrato\n",
    "            numero_saques += 1 # Incrementa o número de saques\n",
    "\n",
    "        else: # Se o valor do saque for menor ou igual a zero\n",
    "            print(\"Operação falhou! O valor informado é inválido.\") # Exibe mensagem de erro\n",
    "\n",
    "    elif opcao == \"e\": # Opção de extrato\n",
    "        print(\"\\n================ EXTRATO ================\") # Exibe o extrato\n",
    "        print(\"Não foram realizadas movimentações.\" if not extrato else extrato) # Exibe o extrato\n",
    "        print(f\"\\nSaldo: R$ {saldo:.2f}\") # Exibe o saldo \n",
    "        print(\"==========================================\") # Exibe o extrato\n",
    "\n",
    "    elif opcao == \"q\": # Opção de sair\n",
    "        break # Encerra o loop\n",
    "\n",
    "    else: # Se a opção for inválida\n",
    "        print(\"Operação inválida, por favor selecione novamente a operação desejada.\") # Exibe mensagem de erro"
   ]
  }
 ],
 "metadata": {
  "kernelspec": {
   "display_name": "Python 3",
   "language": "python",
   "name": "python3"
  },
  "language_info": {
   "codemirror_mode": {
    "name": "ipython",
    "version": 3
   },
   "file_extension": ".py",
   "mimetype": "text/x-python",
   "name": "python",
   "nbconvert_exporter": "python",
   "pygments_lexer": "ipython3",
   "version": "3.12.9"
  }
 },
 "nbformat": 4,
 "nbformat_minor": 2
}
